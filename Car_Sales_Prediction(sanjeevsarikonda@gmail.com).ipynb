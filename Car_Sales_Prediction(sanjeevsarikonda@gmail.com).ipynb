{
  "cells": [
    {
      "cell_type": "markdown",
      "metadata": {
        "id": "oM72Is0beet7"
      },
      "source": [
        "# Importing and Installing all necessary libraries"
      ]
    },
    {
      "cell_type": "code",
      "execution_count": null,
      "metadata": {
        "colab": {
          "base_uri": "https://localhost:8080/",
          "height": 465
        },
        "id": "iRZ-fK2k3slJ",
        "outputId": "68acd2f8-e250-4f71-fe3d-db6e233c91bd"
      },
      "outputs": [
        {
          "output_type": "stream",
          "name": "stdout",
          "text": [
            "Collecting pyspark\n",
            "  Downloading pyspark-3.2.1.tar.gz (281.4 MB)\n",
            "\u001b[K     |████████████████████████████████| 281.4 MB 35 kB/s \n",
            "\u001b[?25hCollecting py4j==0.10.9.3\n",
            "  Downloading py4j-0.10.9.3-py2.py3-none-any.whl (198 kB)\n",
            "\u001b[K     |████████████████████████████████| 198 kB 61.1 MB/s \n",
            "\u001b[?25hBuilding wheels for collected packages: pyspark\n",
            "  Building wheel for pyspark (setup.py) ... \u001b[?25l\u001b[?25hdone\n",
            "  Created wheel for pyspark: filename=pyspark-3.2.1-py2.py3-none-any.whl size=281853642 sha256=c16a2f3dd7bfc8de85713bbb940d1fd4000cc6d794a64ec1e2365c4e1b1342ab\n",
            "  Stored in directory: /root/.cache/pip/wheels/9f/f5/07/7cd8017084dce4e93e84e92efd1e1d5334db05f2e83bcef74f\n",
            "Successfully built pyspark\n",
            "Installing collected packages: py4j, pyspark\n",
            "Successfully installed py4j-0.10.9.3 pyspark-3.2.1\n"
          ]
        },
        {
          "output_type": "execute_result",
          "data": {
            "text/plain": [
              "<pyspark.sql.session.SparkSession at 0x7fa0fdc03a90>"
            ],
            "text/html": [
              "\n",
              "            <div>\n",
              "                <p><b>SparkSession - in-memory</b></p>\n",
              "                \n",
              "        <div>\n",
              "            <p><b>SparkContext</b></p>\n",
              "\n",
              "            <p><a href=\"http://718f6df59b40:4040\">Spark UI</a></p>\n",
              "\n",
              "            <dl>\n",
              "              <dt>Version</dt>\n",
              "                <dd><code>v3.2.1</code></dd>\n",
              "              <dt>Master</dt>\n",
              "                <dd><code>local[*]</code></dd>\n",
              "              <dt>AppName</dt>\n",
              "                <dd><code>Car_Sales</code></dd>\n",
              "            </dl>\n",
              "        </div>\n",
              "        \n",
              "            </div>\n",
              "        "
            ]
          },
          "metadata": {},
          "execution_count": 1
        }
      ],
      "source": [
        "!pip install pyspark\n",
        "\n",
        "!apt-get install openjdk-8-jdk-headless -qq > /dev/null\n",
        "\n",
        "!wget -q https://dlcdn.apache.org/spark/spark-3.2.1/spark-3.2.1-bin-hadoop2.7.tgz\n",
        "!tar xf spark-3.2.1-bin-hadoop2.7.tgz\n",
        "\n",
        "!pip install -q findspark\n",
        "\n",
        "import os\n",
        "os.environ[\"JAVA_HOME\"] = \"/usr/lib/jvm/java-8-openjdk-amd64\"\n",
        "os.environ[\"SPARK_HOME\"] = \"/content/spark-3.2.1-bin-hadoop2.7\"\n",
        "\n",
        "from pyspark.sql import functions as F\n",
        "import numpy as np\n",
        "import pandas as pd\n",
        "import matplotlib.pyplot as plt\n",
        "import seaborn as sns\n",
        "\n",
        "from pyspark.sql.window import Window\n",
        "# from pyspark.sql.functions import * #lot of functions available here\n",
        "from pyspark.sql.types import IntegerType, StringType\n",
        "from pyspark.ml.feature import StringIndexer, OneHotEncoder, VectorAssembler\n",
        "from pyspark.sql.functions import col, log, isnan, count\n",
        "from pyspark.ml.feature import Imputer\n",
        "import pyspark.ml.regression as mlr\n",
        "from pyspark.ml.evaluation import RegressionEvaluator\n",
        "from pyspark.ml.regression import GBTRegressor\n",
        "from pyspark.ml import Pipeline\n",
        "\n",
        "import warnings\n",
        "warnings.simplefilter(action='ignore')\n",
        "\n",
        "from pyspark.sql import SparkSession\n",
        "from pyspark.sql.types import *\n",
        "spark = SparkSession.builder.appName(\"Car_Sales\").getOrCreate()\n",
        "spark"
      ]
    },
    {
      "cell_type": "markdown",
      "metadata": {
        "id": "MQD-gOHvenqB"
      },
      "source": [
        "# Importing Data"
      ]
    },
    {
      "cell_type": "code",
      "execution_count": null,
      "metadata": {
        "id": "NTm-aq2WdhLi"
      },
      "outputs": [],
      "source": [
        "df = spark.read.format(\"csv\").option(\"header\",True).option(\"inferSchema\",True).load(\"/content/drive/MyDrive/Car_sales.csv\")"
      ]
    },
    {
      "cell_type": "code",
      "execution_count": null,
      "metadata": {
        "id": "cXK401KSdiAn",
        "colab": {
          "base_uri": "https://localhost:8080/"
        },
        "outputId": "5bf6e589-41f4-4bd6-c221-7c8c16ecae08"
      },
      "outputs": [
        {
          "output_type": "stream",
          "name": "stdout",
          "text": [
            "root\n",
            " |-- Manufacturer: string (nullable = true)\n",
            " |-- Model: string (nullable = true)\n",
            " |-- Sales_in_thousands: double (nullable = true)\n",
            " |-- four_year_resale_value: double (nullable = true)\n",
            " |-- Vehicle_type: string (nullable = true)\n",
            " |-- Price_in_thousands: double (nullable = true)\n",
            " |-- Engine_size: double (nullable = true)\n",
            " |-- Horsepower: integer (nullable = true)\n",
            " |-- Wheelbase: double (nullable = true)\n",
            " |-- Width: double (nullable = true)\n",
            " |-- Length: double (nullable = true)\n",
            " |-- Curb_weight: double (nullable = true)\n",
            " |-- Fuel_capacity: double (nullable = true)\n",
            " |-- Fuel_efficiency: integer (nullable = true)\n",
            " |-- Latest_Launch: string (nullable = true)\n",
            " |-- Power_perf_factor: double (nullable = true)\n",
            "\n"
          ]
        }
      ],
      "source": [
        "df.printSchema()"
      ]
    },
    {
      "cell_type": "code",
      "execution_count": null,
      "metadata": {
        "id": "4Ak5Lya4fLPQ",
        "colab": {
          "base_uri": "https://localhost:8080/"
        },
        "outputId": "a096f52a-9715-438a-e1e8-a982227e75c5"
      },
      "outputs": [
        {
          "output_type": "stream",
          "name": "stdout",
          "text": [
            "+------------+-------+------------------+----------------------+------------+------------------+-----------+----------+---------+-----+------+-----------+-------------+---------------+-------------+-----------------+\n",
            "|Manufacturer|  Model|Sales_in_thousands|four_year_resale_value|Vehicle_type|Price_in_thousands|Engine_size|Horsepower|Wheelbase|Width|Length|Curb_weight|Fuel_capacity|Fuel_efficiency|Latest_Launch|Power_perf_factor|\n",
            "+------------+-------+------------------+----------------------+------------+------------------+-----------+----------+---------+-----+------+-----------+-------------+---------------+-------------+-----------------+\n",
            "|       Acura|Integra|            16.919|                 16.36|   Passenger|              21.5|        1.8|       140|    101.2| 67.3| 172.4|      2.639|         13.2|             28|     2/2/2012|      58.28014952|\n",
            "|       Acura|     TL|            39.384|                19.875|   Passenger|              28.4|        3.2|       225|    108.1| 70.3| 192.9|      3.517|         17.2|             25|     6/3/2011|      91.37077766|\n",
            "|       Acura|     CL|            14.114|                18.225|   Passenger|              null|        3.2|       225|    106.9| 70.6| 192.0|       3.47|         17.2|             26|     1/4/2012|             null|\n",
            "|       Acura|     RL|             8.588|                29.725|   Passenger|              42.0|        3.5|       210|    114.6| 71.4| 196.6|       3.85|         18.0|             22|    3/10/2011|      91.38977933|\n",
            "|        Audi|     A4|            20.397|                22.255|   Passenger|             23.99|        1.8|       150|    102.6| 68.2| 178.0|      2.998|         16.4|             27|    10/8/2011|       62.7776392|\n",
            "+------------+-------+------------------+----------------------+------------+------------------+-----------+----------+---------+-----+------+-----------+-------------+---------------+-------------+-----------------+\n",
            "only showing top 5 rows\n",
            "\n"
          ]
        }
      ],
      "source": [
        "df.show(5)"
      ]
    },
    {
      "cell_type": "markdown",
      "metadata": {
        "id": "n8gHdrUTWKSg"
      },
      "source": [
        "## Handling Missing Values"
      ]
    },
    {
      "cell_type": "code",
      "execution_count": null,
      "metadata": {
        "id": "XvDPynUgdiNl",
        "colab": {
          "base_uri": "https://localhost:8080/"
        },
        "outputId": "cd990e99-8dc7-4c3e-a055-191854fdc7e2"
      },
      "outputs": [
        {
          "output_type": "stream",
          "name": "stdout",
          "text": [
            "+------------+-----+------------------+----------------------+------------+------------------+-----------+----------+---------+-----+------+-----------+-------------+---------------+-------------+-----------------+\n",
            "|Manufacturer|Model|Sales_in_thousands|four_year_resale_value|Vehicle_type|Price_in_thousands|Engine_size|Horsepower|Wheelbase|Width|Length|Curb_weight|Fuel_capacity|Fuel_efficiency|Latest_Launch|Power_perf_factor|\n",
            "+------------+-----+------------------+----------------------+------------+------------------+-----------+----------+---------+-----+------+-----------+-------------+---------------+-------------+-----------------+\n",
            "|           0|    0|                 0|                    36|           0|                 2|          1|         1|        1|    1|     1|          2|            1|              3|            0|                2|\n",
            "+------------+-----+------------------+----------------------+------------+------------------+-----------+----------+---------+-----+------+-----------+-------------+---------------+-------------+-----------------+\n",
            "\n"
          ]
        }
      ],
      "source": [
        "df.select([count(F.when(col(c).isNull(), c)).alias(c) for c in df.columns]).show()"
      ]
    },
    {
      "cell_type": "code",
      "execution_count": null,
      "metadata": {
        "id": "HW6s9iZLNyAP",
        "colab": {
          "base_uri": "https://localhost:8080/"
        },
        "outputId": "792ebb93-3567-4519-bf1e-08abf5bb7199"
      },
      "outputs": [
        {
          "output_type": "stream",
          "name": "stdout",
          "text": [
            "+------------+-----------+------------------+----------------------+------------+------------------+-----------+----------+---------+-----+------+-----------------+-------------+---------------+-------------+-----------------+\n",
            "|Manufacturer|      Model|Sales_in_thousands|four_year_resale_value|Vehicle_type|Price_in_thousands|Engine_size|Horsepower|Wheelbase|Width|Length|      Curb_weight|Fuel_capacity|Fuel_efficiency|Latest_Launch|Power_perf_factor|\n",
            "+------------+-----------+------------------+----------------------+------------+------------------+-----------+----------+---------+-----+------+-----------------+-------------+---------------+-------------+-----------------+\n",
            "|       Acura|    Integra|            16.919|                 16.36|   Passenger|              21.5|        1.8|       140|    101.2| 67.3| 172.4|            2.639|         13.2|             28|     2/2/2012|      58.28014952|\n",
            "|       Acura|         TL|            39.384|                19.875|   Passenger|              28.4|        3.2|       225|    108.1| 70.3| 192.9|            3.517|         17.2|             25|     6/3/2011|      91.37077766|\n",
            "|       Acura|         CL|            14.114|                18.225|   Passenger| 27.39075483870966|        3.2|       225|    106.9| 70.6| 192.0|             3.47|         17.2|             26|     1/4/2012| 77.0435912007742|\n",
            "|       Acura|         RL|             8.588|                29.725|   Passenger|              42.0|        3.5|       210|    114.6| 71.4| 196.6|             3.85|         18.0|             22|    3/10/2011|      91.38977933|\n",
            "|        Audi|         A4|            20.397|                22.255|   Passenger|             23.99|        1.8|       150|    102.6| 68.2| 178.0|            2.998|         16.4|             27|    10/8/2011|       62.7776392|\n",
            "|        Audi|         A6|             18.78|                23.555|   Passenger|             33.95|        2.8|       200|    108.7| 76.1| 192.0|            3.561|         18.5|             22|     8/9/2011|      84.56510502|\n",
            "|        Audi|         A8|              1.38|                  39.0|   Passenger|              62.0|        4.2|       310|    113.0| 74.0| 198.2|            3.902|         23.7|             21|    2/27/2012|      134.6568582|\n",
            "|         BMW|       323i|            19.747|    18.072975206611574|   Passenger|             26.99|        2.5|       170|    107.3| 68.4| 176.0|            3.179|         16.6|             26|    6/28/2011|      71.19120671|\n",
            "|         BMW|       328i|             9.231|                28.675|   Passenger|              33.4|        2.8|       193|    107.3| 68.5| 176.0|            3.197|         16.6|             24|    1/29/2012|      81.87706856|\n",
            "|         BMW|       528i|            17.527|                36.125|   Passenger|              38.9|        2.8|       193|    111.4| 70.9| 188.0|            3.472|         18.5|             25|     4/4/2011|       83.9987238|\n",
            "|       Buick|    Century|            91.561|                12.475|   Passenger|            21.975|        3.1|       175|    109.0| 72.7| 194.6|            3.368|         17.5|             25|    11/2/2011|      71.18145132|\n",
            "|       Buick|      Regal|             39.35|                 13.74|   Passenger|              25.3|        3.8|       240|    109.0| 72.7| 196.2|            3.543|         17.5|             23|     9/3/2011|      95.63670253|\n",
            "|       Buick|Park Avenue|            27.851|                 20.19|   Passenger|            31.965|        3.8|       205|    113.8| 74.7| 206.8|            3.778|         18.5|             24|    3/23/2012|      85.82840825|\n",
            "|       Buick|    LeSabre|            83.257|                 13.36|   Passenger|            27.885|        3.8|       205|    112.2| 73.5| 200.0|            3.591|         17.5|             25|    7/23/2011|      84.25452581|\n",
            "|    Cadillac|    DeVille|            63.729|                22.525|   Passenger|            39.895|        4.6|       275|    115.3| 74.5| 207.2|            3.978|         18.5|             22|    2/23/2012|      113.8545976|\n",
            "|    Cadillac|    Seville|            15.943|                  27.1|   Passenger|            44.475|        4.6|       275|    112.2| 75.0| 201.0|3.378025806451613|         18.5|             22|    4/29/2011|      115.6213578|\n",
            "|    Cadillac|   Eldorado|             6.536|                25.725|   Passenger|            39.665|        4.6|       275|    108.0| 75.5| 200.6|            3.843|         19.0|             22|   11/27/2011|      113.7658739|\n",
            "|    Cadillac|     Catera|            11.185|                18.225|   Passenger|             31.01|        3.0|       200|    107.4| 70.3| 194.8|             3.77|         18.0|             22|    9/28/2011|      83.48309358|\n",
            "|    Cadillac|   Escalade|            14.785|    18.072975206611574|         Car|            46.225|        5.7|       255|    117.5| 77.0| 201.2|            5.572|         30.0|             15|    4/17/2012|      109.5091165|\n",
            "|   Chevrolet|   Cavalier|           145.519|                  9.25|   Passenger|             13.26|        2.2|       115|    104.1| 67.9| 180.9|            2.676|         14.3|             27|    8/17/2011|      46.36334747|\n",
            "+------------+-----------+------------------+----------------------+------------+------------------+-----------+----------+---------+-----+------+-----------------+-------------+---------------+-------------+-----------------+\n",
            "only showing top 20 rows\n",
            "\n"
          ]
        }
      ],
      "source": [
        "input_col = [\"four_year_resale_value\",\n",
        "                     \"Price_in_thousands\",\n",
        "                     \"Horsepower\",\n",
        "                     \"Wheelbase\",\n",
        "                     \"Width\",\n",
        "                     \"Length\",\n",
        "                     \"Curb_weight\",\n",
        "                     \"Fuel_capacity\",\n",
        "                     \"Fuel_efficiency\",\n",
        "                     \"Power_perf_factor\"]\n",
        "\n",
        "out_col = ['Out_four_year_resale_value',\n",
        "                     'Out_Price_in_thousands',\n",
        "                     'Out_Horsepower',\n",
        "                     'Out_Wheelbase',\n",
        "                     'Out_Width',\n",
        "                     'Out_Length',\n",
        "                     'Out_Curb_weight',\n",
        "                     'Out_Fuel_capacity',\n",
        "                     'Out_Fuel_efficiency',\n",
        "                     'Out_Power_perf_factor']\n",
        "\n",
        "\n",
        "imputer1 = Imputer(strategy = 'mean', inputCols= input_col, outputCols= input_col)\n",
        "newdf = imputer1.fit(df)\n",
        "newdf.surrogateDF\n",
        "newdf = newdf.transform(df)\n",
        "newdf.show()"
      ]
    },
    {
      "cell_type": "markdown",
      "metadata": {
        "id": "GAQc2DKDXOeK"
      },
      "source": [
        "## Visualizing data for future transformation"
      ]
    },
    {
      "cell_type": "code",
      "execution_count": null,
      "metadata": {
        "id": "fRdzBy7DdijY",
        "colab": {
          "base_uri": "https://localhost:8080/"
        },
        "outputId": "932686a1-f689-4b82-c132-2f9da29693bf"
      },
      "outputs": [
        {
          "output_type": "execute_result",
          "data": {
            "text/plain": [
              "[]"
            ]
          },
          "metadata": {},
          "execution_count": 8
        },
        {
          "output_type": "display_data",
          "data": {
            "text/plain": [
              "<Figure size 720x432 with 1 Axes>"
            ],
            "image/png": "[encoded data removed]"
          },
          "metadata": {}
        }
      ],
      "source": [
        "sns.set(rc={\"figure.figsize\": (10, 6)})\n",
        "sns.distplot(newdf.select('Sales_in_thousands').toPandas(), norm_hist=True)\n",
        "plt.plot()"
      ]
    },
    {
      "cell_type": "code",
      "execution_count": null,
      "metadata": {
        "colab": {
          "base_uri": "https://localhost:8080/"
        },
        "id": "Q8cxrTM6t62d",
        "outputId": "e65aadaa-a438-46ef-967b-82aaf88f9f1a"
      },
      "outputs": [
        {
          "output_type": "execute_result",
          "data": {
            "text/plain": [
              "[]"
            ]
          },
          "metadata": {},
          "execution_count": 9
        },
        {
          "output_type": "display_data",
          "data": {
            "text/plain": [
              "<Figure size 720x432 with 1 Axes>"
            ],
            "image/png": "[encoded data removed]"
          },
          "metadata": {}
        }
      ],
      "source": [
        "sns.distplot(newdf.select('four_year_resale_value').toPandas(), norm_hist=True)\n",
        "plt.plot()"
      ]
    },
    {
      "cell_type": "code",
      "execution_count": null,
      "metadata": {
        "colab": {
          "base_uri": "https://localhost:8080/"
        },
        "id": "6eQYf2UZt9kl",
        "outputId": "ac799347-e50e-46b7-b5a4-40e9121db2f7"
      },
      "outputs": [
        {
          "output_type": "execute_result",
          "data": {
            "text/plain": [
              "[]"
            ]
          },
          "metadata": {},
          "execution_count": 10
        },
        {
          "output_type": "display_data",
          "data": {
            "text/plain": [
              "<Figure size 720x432 with 1 Axes>"
            ],
            "image/png": "[encoded data removed]"
          },
          "metadata": {}
        }
      ],
      "source": [
        "sns.distplot(newdf.select('Price_in_thousands').toPandas(), norm_hist=True)\n",
        "plt.plot()"
      ]
    },
    {
      "cell_type": "code",
      "execution_count": null,
      "metadata": {
        "colab": {
          "base_uri": "https://localhost:8080/"
        },
        "id": "L4hzLl4muApy",
        "outputId": "aad971c2-b992-4642-b356-6249d09d5eb0"
      },
      "outputs": [
        {
          "output_type": "execute_result",
          "data": {
            "text/plain": [
              "[]"
            ]
          },
          "metadata": {},
          "execution_count": 11
        },
        {
          "output_type": "display_data",
          "data": {
            "text/plain": [
              "<Figure size 720x432 with 1 Axes>"
            ],
            "image/png": "[encoded data removed]"
          },
          "metadata": {}
        }
      ],
      "source": [
        "sns.distplot(newdf.select('Engine_size').toPandas(), norm_hist=True)\n",
        "plt.plot()"
      ]
    },
    {
      "cell_type": "code",
      "execution_count": null,
      "metadata": {
        "colab": {
          "base_uri": "https://localhost:8080/"
        },
        "id": "B3YF356fuDBA",
        "outputId": "8c291713-901c-4caa-8264-fdfcae4859e4"
      },
      "outputs": [
        {
          "output_type": "execute_result",
          "data": {
            "text/plain": [
              "[]"
            ]
          },
          "metadata": {},
          "execution_count": 12
        },
        {
          "output_type": "display_data",
          "data": {
            "text/plain": [
              "<Figure size 720x432 with 1 Axes>"
            ],
            "image/png": "[encoded data removed]"
          },
          "metadata": {}
        }
      ],
      "source": [
        "sns.distplot(newdf.select('Horsepower').toPandas(), norm_hist=True)\n",
        "plt.plot()"
      ]
    },
    {
      "cell_type": "code",
      "execution_count": null,
      "metadata": {
        "colab": {
          "base_uri": "https://localhost:8080/"
        },
        "id": "tb7-i5FRuFBQ",
        "outputId": "89776e19-eec2-4cf7-f6d2-eb29d3296730"
      },
      "outputs": [
        {
          "output_type": "execute_result",
          "data": {
            "text/plain": [
              "[]"
            ]
          },
          "metadata": {},
          "execution_count": 13
        },
        {
          "output_type": "display_data",
          "data": {
            "text/plain": [
              "<Figure size 720x432 with 1 Axes>"
            ],
            "image/png": "[encoded data removed]"
          },
          "metadata": {}
        }
      ],
      "source": [
        "sns.distplot(newdf.select('Wheelbase').toPandas(), norm_hist=True)\n",
        "plt.plot()"
      ]
    },
    {
      "cell_type": "code",
      "execution_count": null,
      "metadata": {
        "colab": {
          "base_uri": "https://localhost:8080/"
        },
        "id": "akoNFHv3uJ57",
        "outputId": "5a3b36c8-99d6-42b8-8f10-fc12b8b59a16"
      },
      "outputs": [
        {
          "output_type": "execute_result",
          "data": {
            "text/plain": [
              "[]"
            ]
          },
          "metadata": {},
          "execution_count": 14
        },
        {
          "output_type": "display_data",
          "data": {
            "text/plain": [
              "<Figure size 720x432 with 1 Axes>"
            ],
            "image/png": "[encoded data removed]"
          },
          "metadata": {}
        }
      ],
      "source": [
        "sns.distplot(newdf.select('Width').toPandas(), norm_hist=True)\n",
        "plt.plot()"
      ]
    },
    {
      "cell_type": "code",
      "execution_count": null,
      "metadata": {
        "colab": {
          "base_uri": "https://localhost:8080/"
        },
        "id": "9qSmyUntuLzj",
        "outputId": "07788d80-ba53-4be5-e3c6-9109da9fbe1a"
      },
      "outputs": [
        {
          "output_type": "execute_result",
          "data": {
            "text/plain": [
              "[]"
            ]
          },
          "metadata": {},
          "execution_count": 15
        },
        {
          "output_type": "display_data",
          "data": {
            "text/plain": [
              "<Figure size 720x432 with 1 Axes>"
            ],
            "image/png": "[encoded data removed]"
          },
          "metadata": {}
        }
      ],
      "source": [
        "sns.distplot(newdf.select('Length').toPandas(), norm_hist=True)\n",
        "plt.plot()"
      ]
    },
    {
      "cell_type": "code",
      "execution_count": null,
      "metadata": {
        "colab": {
          "base_uri": "https://localhost:8080/"
        },
        "id": "jqEPlokpuOPs",
        "outputId": "23e394f9-5c65-4da6-d9b4-dd7b4fe46507"
      },
      "outputs": [
        {
          "output_type": "execute_result",
          "data": {
            "text/plain": [
              "[]"
            ]
          },
          "metadata": {},
          "execution_count": 16
        },
        {
          "output_type": "display_data",
          "data": {
            "text/plain": [
              "<Figure size 720x432 with 1 Axes>"
            ],
            "image/png": "[encoded data removed]"
          },
          "metadata": {}
        }
      ],
      "source": [
        "sns.distplot(newdf.select('Curb_weight').toPandas(), norm_hist=True)\n",
        "plt.plot()"
      ]
    },
    {
      "cell_type": "code",
      "execution_count": null,
      "metadata": {
        "colab": {
          "base_uri": "https://localhost:8080/"
        },
        "id": "vtwtSng8uP4U",
        "outputId": "16f03590-2a6b-49db-a3f0-6d8c792d7f05"
      },
      "outputs": [
        {
          "output_type": "execute_result",
          "data": {
            "text/plain": [
              "[]"
            ]
          },
          "metadata": {},
          "execution_count": 17
        },
        {
          "output_type": "display_data",
          "data": {
            "text/plain": [
              "<Figure size 720x432 with 1 Axes>"
            ],
            "image/png": "[encoded data removed]"
          },
          "metadata": {}
        }
      ],
      "source": [
        "sns.distplot(newdf.select('Fuel_capacity').toPandas(), norm_hist=True)\n",
        "plt.plot()"
      ]
    },
    {
      "cell_type": "code",
      "execution_count": null,
      "metadata": {
        "colab": {
          "base_uri": "https://localhost:8080/"
        },
        "id": "8Ng3u5bXuRhx",
        "outputId": "da8d7642-5f57-43b6-e996-1bfef81c8ae7"
      },
      "outputs": [
        {
          "output_type": "execute_result",
          "data": {
            "text/plain": [
              "[]"
            ]
          },
          "metadata": {},
          "execution_count": 18
        },
        {
          "output_type": "display_data",
          "data": {
            "text/plain": [
              "<Figure size 720x432 with 1 Axes>"
            ],
            "image/png": "[encoded data removed]"
          },
          "metadata": {}
        }
      ],
      "source": [
        "sns.distplot(newdf.select('Fuel_efficiency').toPandas(), norm_hist=True)\n",
        "plt.plot()"
      ]
    },
    {
      "cell_type": "code",
      "execution_count": null,
      "metadata": {
        "colab": {
          "base_uri": "https://localhost:8080/"
        },
        "id": "lzr5i6WzuTqW",
        "outputId": "48a6cdb7-5d77-4030-f16f-e3e80e89b7df"
      },
      "outputs": [
        {
          "output_type": "execute_result",
          "data": {
            "text/plain": [
              "[]"
            ]
          },
          "metadata": {},
          "execution_count": 19
        },
        {
          "output_type": "display_data",
          "data": {
            "text/plain": [
              "<Figure size 720x432 with 1 Axes>"
            ],
            "image/png": "[encoded data removed]"
          },
          "metadata": {}
        }
      ],
      "source": [
        "sns.distplot(newdf.select('Power_perf_factor').toPandas(), norm_hist=True)\n",
        "plt.plot()"
      ]
    },
    {
      "cell_type": "markdown",
      "metadata": {
        "id": "VJ61Ab1B9las"
      },
      "source": [
        "From the visualizations we can conclude that columns - Sales_in_thousands, four_year_resale_valu, Price_in_thousands and Horsepower needs transformation"
      ]
    },
    {
      "cell_type": "code",
      "execution_count": null,
      "metadata": {
        "colab": {
          "base_uri": "https://localhost:8080/"
        },
        "id": "myhFSIEkgcJF",
        "outputId": "7b61c1c3-b060-4582-b1c3-2846aa14e148"
      },
      "outputs": [
        {
          "output_type": "stream",
          "name": "stdout",
          "text": [
            "Sales_in_thousands\n",
            "four_year_resale_value\n",
            "Price_in_thousands\n",
            "Engine_size\n",
            "Horsepower\n",
            "Wheelbase\n",
            "Width\n",
            "Length\n",
            "Curb_weight\n",
            "Fuel_capacity\n",
            "Fuel_efficiency\n",
            "Power_perf_factor\n"
          ]
        }
      ],
      "source": [
        "for col in newdf.columns:\n",
        "  if col != 'Manufacturer' and col != 'Model' and col != 'Vehicle_type' and col != 'Latest_Launch' :\n",
        "    print(col)"
      ]
    },
    {
      "cell_type": "code",
      "execution_count": null,
      "metadata": {
        "id": "20P9fQoQdimR"
      },
      "outputs": [],
      "source": [
        "# fig, axes = plt.subplots(ncols=len(newdf.columns), figsize=(80,40))\n",
        "# for ax, col in zip(axes, newdf.columns):\n",
        "#   if col != 'Manufacturer' and col != 'Model' and col != 'Vehicle_type' and col != 'Latest_Launch' :\n",
        "#     sns.distplot(newdf.select(col).toPandas(), norm_hist=True, ax=ax)\n",
        "#     plt.suptitle(str(col))\n",
        "#     plt.tight_layout() \n",
        "# plt.show()"
      ]
    },
    {
      "cell_type": "markdown",
      "metadata": {
        "id": "4lVaZwOd9NyY"
      },
      "source": [
        "# String Indexer"
      ]
    },
    {
      "cell_type": "code",
      "execution_count": null,
      "metadata": {
        "colab": {
          "base_uri": "https://localhost:8080/"
        },
        "id": "JLxouIz2-NTf",
        "outputId": "a7cd3963-1621-4ca2-ef9e-3faf460b1a47"
      },
      "outputs": [
        {
          "output_type": "stream",
          "name": "stdout",
          "text": [
            "+------------+-------+------------------+----------------------+------------+------------------+-----------+----------+---------+-----+------+-----------+-------------+---------------+-------------+-----------------+\n",
            "|Manufacturer|  Model|Sales_in_thousands|four_year_resale_value|Vehicle_type|Price_in_thousands|Engine_size|Horsepower|Wheelbase|Width|Length|Curb_weight|Fuel_capacity|Fuel_efficiency|Latest_Launch|Power_perf_factor|\n",
            "+------------+-------+------------------+----------------------+------------+------------------+-----------+----------+---------+-----+------+-----------+-------------+---------------+-------------+-----------------+\n",
            "|       Acura|Integra|            16.919|                 16.36|   Passenger|              21.5|        1.8|       140|    101.2| 67.3| 172.4|      2.639|         13.2|             28|     2/2/2012|      58.28014952|\n",
            "|       Acura|     TL|            39.384|                19.875|   Passenger|              28.4|        3.2|       225|    108.1| 70.3| 192.9|      3.517|         17.2|             25|     6/3/2011|      91.37077766|\n",
            "|       Acura|     CL|            14.114|                18.225|   Passenger| 27.39075483870966|        3.2|       225|    106.9| 70.6| 192.0|       3.47|         17.2|             26|     1/4/2012| 77.0435912007742|\n",
            "|       Acura|     RL|             8.588|                29.725|   Passenger|              42.0|        3.5|       210|    114.6| 71.4| 196.6|       3.85|         18.0|             22|    3/10/2011|      91.38977933|\n",
            "|        Audi|     A4|            20.397|                22.255|   Passenger|             23.99|        1.8|       150|    102.6| 68.2| 178.0|      2.998|         16.4|             27|    10/8/2011|       62.7776392|\n",
            "+------------+-------+------------------+----------------------+------------+------------------+-----------+----------+---------+-----+------+-----------+-------------+---------------+-------------+-----------------+\n",
            "only showing top 5 rows\n",
            "\n"
          ]
        }
      ],
      "source": [
        "newdf.show(5)"
      ]
    },
    {
      "cell_type": "code",
      "execution_count": null,
      "metadata": {
        "colab": {
          "base_uri": "https://localhost:8080/"
        },
        "id": "xwiz7rmxdiui",
        "outputId": "df6803c7-17ee-48f1-c172-28c6e30730ec"
      },
      "outputs": [
        {
          "output_type": "stream",
          "name": "stdout",
          "text": [
            "+------------+\n",
            "|Manufacturer|\n",
            "+------------+\n",
            "|  Volkswagen|\n",
            "|  Oldsmobile|\n",
            "|    Infiniti|\n",
            "|       Lexus|\n",
            "|      Jaguar|\n",
            "|      Saturn|\n",
            "|        Jeep|\n",
            "|  Mitsubishi|\n",
            "|   Chevrolet|\n",
            "|       Volvo|\n",
            "|     Hyundai|\n",
            "|        Saab|\n",
            "|       Honda|\n",
            "|        Audi|\n",
            "|    Cadillac|\n",
            "|    Plymouth|\n",
            "|     Pontiac|\n",
            "|     Mercury|\n",
            "|    Chrysler|\n",
            "|     Lincoln|\n",
            "+------------+\n",
            "only showing top 20 rows\n",
            "\n",
            "Manufacturer None\n",
            "Number of manufacturers 30\n"
          ]
        }
      ],
      "source": [
        "print('Manufacturer',newdf.select('Manufacturer').distinct().show())\n",
        "print('Number of manufacturers',newdf.select('Manufacturer').distinct().count())"
      ]
    },
    {
      "cell_type": "code",
      "execution_count": null,
      "metadata": {
        "colab": {
          "base_uri": "https://localhost:8080/"
        },
        "id": "reL-rgfcdizo",
        "outputId": "1306d0aa-04d7-4e38-a14a-a83d7a0237d3"
      },
      "outputs": [
        {
          "output_type": "stream",
          "name": "stdout",
          "text": [
            "+-------------+\n",
            "|        Model|\n",
            "+-------------+\n",
            "|       Cirrus|\n",
            "|      Contour|\n",
            "|        RX300|\n",
            "|     Villager|\n",
            "|           SC|\n",
            "|      Cutlass|\n",
            "|           SL|\n",
            "|        Camry|\n",
            "|      Seville|\n",
            "|    Ram Wagon|\n",
            "|      Outback|\n",
            "|         300M|\n",
            "|           A6|\n",
            "|Grand Marquis|\n",
            "|         Golf|\n",
            "|     Forester|\n",
            "|       Sentra|\n",
            "|     Cherokee|\n",
            "|        Focus|\n",
            "|     Wrangler|\n",
            "+-------------+\n",
            "only showing top 20 rows\n",
            "\n",
            "Model None\n",
            "Number of distinct models 156\n"
          ]
        }
      ],
      "source": [
        "print('Model',newdf.select('Model').distinct().show())\n",
        "print('Number of distinct models',newdf.select('Model').distinct().count())"
      ]
    },
    {
      "cell_type": "code",
      "execution_count": null,
      "metadata": {
        "colab": {
          "base_uri": "https://localhost:8080/"
        },
        "id": "zJ6U6OnVmhdo",
        "outputId": "eca62684-f926-4d10-cab8-95e722394df6"
      },
      "outputs": [
        {
          "output_type": "stream",
          "name": "stdout",
          "text": [
            "+------------+------------------+----------------------+------------+------------------+-----------+----------+---------+-----+------+-----------+-------------+---------------+-------------+-----------------+\n",
            "|Manufacturer|Sales_in_thousands|four_year_resale_value|Vehicle_type|Price_in_thousands|Engine_size|Horsepower|Wheelbase|Width|Length|Curb_weight|Fuel_capacity|Fuel_efficiency|Latest_Launch|Power_perf_factor|\n",
            "+------------+------------------+----------------------+------------+------------------+-----------+----------+---------+-----+------+-----------+-------------+---------------+-------------+-----------------+\n",
            "|       Acura|            16.919|                 16.36|   Passenger|              21.5|        1.8|       140|    101.2| 67.3| 172.4|      2.639|         13.2|             28|     2/2/2012|      58.28014952|\n",
            "|       Acura|            39.384|                19.875|   Passenger|              28.4|        3.2|       225|    108.1| 70.3| 192.9|      3.517|         17.2|             25|     6/3/2011|      91.37077766|\n",
            "|       Acura|            14.114|                18.225|   Passenger| 27.39075483870966|        3.2|       225|    106.9| 70.6| 192.0|       3.47|         17.2|             26|     1/4/2012| 77.0435912007742|\n",
            "|       Acura|             8.588|                29.725|   Passenger|              42.0|        3.5|       210|    114.6| 71.4| 196.6|       3.85|         18.0|             22|    3/10/2011|      91.38977933|\n",
            "|        Audi|            20.397|                22.255|   Passenger|             23.99|        1.8|       150|    102.6| 68.2| 178.0|      2.998|         16.4|             27|    10/8/2011|       62.7776392|\n",
            "+------------+------------------+----------------------+------------+------------------+-----------+----------+---------+-----+------+-----------+-------------+---------------+-------------+-----------------+\n",
            "only showing top 5 rows\n",
            "\n"
          ]
        }
      ],
      "source": [
        "# dropping Model column as there are number of distinct models are 156 which shall hinder Regression Modelling\n",
        "newdf = newdf.drop('Model')\n",
        "newdf.show(5)"
      ]
    },
    {
      "cell_type": "code",
      "execution_count": null,
      "metadata": {
        "colab": {
          "base_uri": "https://localhost:8080/"
        },
        "id": "2SUZQf-wdi3F",
        "outputId": "e6bf47b2-5919-48d5-938a-19a0384b9666"
      },
      "outputs": [
        {
          "output_type": "stream",
          "name": "stdout",
          "text": [
            "+------------+\n",
            "|Vehicle_type|\n",
            "+------------+\n",
            "|         Car|\n",
            "|   Passenger|\n",
            "+------------+\n",
            "\n",
            "Vehicle_type None\n",
            "Number of vehicle types: 2\n"
          ]
        }
      ],
      "source": [
        "print('Vehicle_type',newdf.select('Vehicle_type').distinct().show())\n",
        "print('Number of vehicle types:',newdf.select('Vehicle_type').distinct().count())"
      ]
    },
    {
      "cell_type": "code",
      "execution_count": null,
      "metadata": {
        "id": "_fvGE2JhA_pX"
      },
      "outputs": [],
      "source": [
        "input_col = [\"Manufacturer\",\n",
        "                     \"Vehicle_type\",]\n",
        "\n",
        "out_col = [\"Indexed_Manufacturer\",\n",
        "                     \"Indexed_Vehicle_type\",]"
      ]
    },
    {
      "cell_type": "code",
      "execution_count": null,
      "metadata": {
        "colab": {
          "base_uri": "https://localhost:8080/"
        },
        "id": "eCr76UaHdjBX",
        "outputId": "9171c830-0708-4b4f-95c5-60ad11cb7aeb"
      },
      "outputs": [
        {
          "output_type": "stream",
          "name": "stdout",
          "text": [
            "+------------+------------------+----------------------+------------+------------------+-----------+----------+---------+-----+------+-----------------+-------------+---------------+-------------+-----------------+--------------------+--------------------+\n",
            "|Manufacturer|Sales_in_thousands|four_year_resale_value|Vehicle_type|Price_in_thousands|Engine_size|Horsepower|Wheelbase|Width|Length|      Curb_weight|Fuel_capacity|Fuel_efficiency|Latest_Launch|Power_perf_factor|Indexed_Manufacturer|Indexed_Vehicle_type|\n",
            "+------------+------------------+----------------------+------------+------------------+-----------+----------+---------+-----+------+-----------------+-------------+---------------+-------------+-----------------+--------------------+--------------------+\n",
            "|       Acura|            16.919|                 16.36|   Passenger|              21.5|        1.8|       140|    101.2| 67.3| 172.4|            2.639|         13.2|             28|     2/2/2012|      58.28014952|                17.0|                 0.0|\n",
            "|       Acura|            39.384|                19.875|   Passenger|              28.4|        3.2|       225|    108.1| 70.3| 192.9|            3.517|         17.2|             25|     6/3/2011|      91.37077766|                17.0|                 0.0|\n",
            "|       Acura|            14.114|                18.225|   Passenger| 27.39075483870966|        3.2|       225|    106.9| 70.6| 192.0|             3.47|         17.2|             26|     1/4/2012| 77.0435912007742|                17.0|                 0.0|\n",
            "|       Acura|             8.588|                29.725|   Passenger|              42.0|        3.5|       210|    114.6| 71.4| 196.6|             3.85|         18.0|             22|    3/10/2011|      91.38977933|                17.0|                 0.0|\n",
            "|        Audi|            20.397|                22.255|   Passenger|             23.99|        1.8|       150|    102.6| 68.2| 178.0|            2.998|         16.4|             27|    10/8/2011|       62.7776392|                20.0|                 0.0|\n",
            "|        Audi|             18.78|                23.555|   Passenger|             33.95|        2.8|       200|    108.7| 76.1| 192.0|            3.561|         18.5|             22|     8/9/2011|      84.56510502|                20.0|                 0.0|\n",
            "|        Audi|              1.38|                  39.0|   Passenger|              62.0|        4.2|       310|    113.0| 74.0| 198.2|            3.902|         23.7|             21|    2/27/2012|      134.6568582|                20.0|                 0.0|\n",
            "|         BMW|            19.747|    18.072975206611574|   Passenger|             26.99|        2.5|       170|    107.3| 68.4| 176.0|            3.179|         16.6|             26|    6/28/2011|      71.19120671|                21.0|                 0.0|\n",
            "|         BMW|             9.231|                28.675|   Passenger|              33.4|        2.8|       193|    107.3| 68.5| 176.0|            3.197|         16.6|             24|    1/29/2012|      81.87706856|                21.0|                 0.0|\n",
            "|         BMW|            17.527|                36.125|   Passenger|              38.9|        2.8|       193|    111.4| 70.9| 188.0|            3.472|         18.5|             25|     4/4/2011|       83.9987238|                21.0|                 0.0|\n",
            "|       Buick|            91.561|                12.475|   Passenger|            21.975|        3.1|       175|    109.0| 72.7| 194.6|            3.368|         17.5|             25|    11/2/2011|      71.18145132|                18.0|                 0.0|\n",
            "|       Buick|             39.35|                 13.74|   Passenger|              25.3|        3.8|       240|    109.0| 72.7| 196.2|            3.543|         17.5|             23|     9/3/2011|      95.63670253|                18.0|                 0.0|\n",
            "|       Buick|            27.851|                 20.19|   Passenger|            31.965|        3.8|       205|    113.8| 74.7| 206.8|            3.778|         18.5|             24|    3/23/2012|      85.82840825|                18.0|                 0.0|\n",
            "|       Buick|            83.257|                 13.36|   Passenger|            27.885|        3.8|       205|    112.2| 73.5| 200.0|            3.591|         17.5|             25|    7/23/2011|      84.25452581|                18.0|                 0.0|\n",
            "|    Cadillac|            63.729|                22.525|   Passenger|            39.895|        4.6|       275|    115.3| 74.5| 207.2|            3.978|         18.5|             22|    2/23/2012|      113.8545976|                14.0|                 0.0|\n",
            "|    Cadillac|            15.943|                  27.1|   Passenger|            44.475|        4.6|       275|    112.2| 75.0| 201.0|3.378025806451613|         18.5|             22|    4/29/2011|      115.6213578|                14.0|                 0.0|\n",
            "|    Cadillac|             6.536|                25.725|   Passenger|            39.665|        4.6|       275|    108.0| 75.5| 200.6|            3.843|         19.0|             22|   11/27/2011|      113.7658739|                14.0|                 0.0|\n",
            "|    Cadillac|            11.185|                18.225|   Passenger|             31.01|        3.0|       200|    107.4| 70.3| 194.8|             3.77|         18.0|             22|    9/28/2011|      83.48309358|                14.0|                 0.0|\n",
            "|    Cadillac|            14.785|    18.072975206611574|         Car|            46.225|        5.7|       255|    117.5| 77.0| 201.2|            5.572|         30.0|             15|    4/17/2012|      109.5091165|                14.0|                 1.0|\n",
            "|   Chevrolet|           145.519|                  9.25|   Passenger|             13.26|        2.2|       115|    104.1| 67.9| 180.9|            2.676|         14.3|             27|    8/17/2011|      46.36334747|                 2.0|                 0.0|\n",
            "+------------+------------------+----------------------+------------+------------------+-----------+----------+---------+-----+------+-----------------+-------------+---------------+-------------+-----------------+--------------------+--------------------+\n",
            "only showing top 20 rows\n",
            "\n"
          ]
        }
      ],
      "source": [
        "indexer = StringIndexer(inputCols=input_col, outputCols=out_col) \n",
        "indexed = indexer.fit(newdf).transform(newdf) \n",
        "indexed.show()"
      ]
    },
    {
      "cell_type": "code",
      "execution_count": null,
      "metadata": {
        "colab": {
          "base_uri": "https://localhost:8080/"
        },
        "id": "bANwPGyzCvYU",
        "outputId": "d9bdcb35-372a-4c98-b46b-f45f3aada4cc"
      },
      "outputs": [
        {
          "output_type": "stream",
          "name": "stdout",
          "text": [
            "Manufacturer 30 Indexed_Manufacturer 30\n"
          ]
        }
      ],
      "source": [
        "print('Manufacturer',indexed.select('Manufacturer').distinct().count(), 'Indexed_Manufacturer',indexed.select('Indexed_Manufacturer').distinct().count())"
      ]
    },
    {
      "cell_type": "code",
      "execution_count": null,
      "metadata": {
        "colab": {
          "base_uri": "https://localhost:8080/"
        },
        "id": "EW99U_ZndjJe",
        "outputId": "12ef2913-fd88-44e2-aa97-f0950733c8e7"
      },
      "outputs": [
        {
          "output_type": "stream",
          "name": "stdout",
          "text": [
            "Vehicle_type 2 Indexed_Vehicle_type 2\n"
          ]
        }
      ],
      "source": [
        "print('Vehicle_type',indexed.select('Vehicle_type').distinct().count(), 'Indexed_Vehicle_type',indexed.select('Indexed_Vehicle_type').distinct().count())"
      ]
    },
    {
      "cell_type": "code",
      "execution_count": null,
      "metadata": {
        "id": "UkKDE5WiD4H8"
      },
      "outputs": [],
      "source": [
        "indexed = indexed.withColumn('label', log('Sales_in_thousands'))\n",
        "indexed = indexed.withColumn('four_year_resale_value', log('four_year_resale_value'))\n",
        "indexed = indexed.withColumn('Price_in_thousands', log('Price_in_thousands'))\n",
        "indexed = indexed.withColumn('Engine_size', log('Engine_size'))"
      ]
    },
    {
      "cell_type": "code",
      "execution_count": null,
      "metadata": {
        "colab": {
          "base_uri": "https://localhost:8080/"
        },
        "id": "nnxGvTYSF_Xm",
        "outputId": "212ffcc4-7e85-4772-f7a7-e9002d078ab7"
      },
      "outputs": [
        {
          "output_type": "execute_result",
          "data": {
            "text/plain": [
              "['Manufacturer',\n",
              " 'Sales_in_thousands',\n",
              " 'four_year_resale_value',\n",
              " 'Vehicle_type',\n",
              " 'Price_in_thousands',\n",
              " 'Engine_size',\n",
              " 'Horsepower',\n",
              " 'Wheelbase',\n",
              " 'Width',\n",
              " 'Length',\n",
              " 'Curb_weight',\n",
              " 'Fuel_capacity',\n",
              " 'Fuel_efficiency',\n",
              " 'Latest_Launch',\n",
              " 'Power_perf_factor',\n",
              " 'Indexed_Manufacturer',\n",
              " 'Indexed_Vehicle_type',\n",
              " 'label']"
            ]
          },
          "metadata": {},
          "execution_count": 32
        }
      ],
      "source": [
        "indexed.columns"
      ]
    },
    {
      "cell_type": "code",
      "execution_count": null,
      "metadata": {
        "id": "hJ3tv90aiPUQ"
      },
      "outputs": [],
      "source": [
        "indexed = indexed.dropna()"
      ]
    },
    {
      "cell_type": "code",
      "execution_count": null,
      "metadata": {
        "colab": {
          "base_uri": "https://localhost:8080/"
        },
        "id": "RUwFn4oBhOGV",
        "outputId": "34674d65-1baa-4e20-b9c3-925dbab12831"
      },
      "outputs": [
        {
          "output_type": "stream",
          "name": "stdout",
          "text": [
            "+------------+------------------+----------------------+------------+------------------+-----------+----------+---------+-----+------+-----------+-------------+---------------+-------------+-----------------+--------------------+--------------------+-----+\n",
            "|Manufacturer|Sales_in_thousands|four_year_resale_value|Vehicle_type|Price_in_thousands|Engine_size|Horsepower|Wheelbase|Width|Length|Curb_weight|Fuel_capacity|Fuel_efficiency|Latest_Launch|Power_perf_factor|Indexed_Manufacturer|Indexed_Vehicle_type|label|\n",
            "+------------+------------------+----------------------+------------+------------------+-----------+----------+---------+-----+------+-----------+-------------+---------------+-------------+-----------------+--------------------+--------------------+-----+\n",
            "|           0|                 0|                     0|           0|                 0|          0|         0|        0|    0|     0|          0|            0|              0|            0|                0|                   0|                   0|    0|\n",
            "+------------+------------------+----------------------+------------+------------------+-----------+----------+---------+-----+------+-----------+-------------+---------------+-------------+-----------------+--------------------+--------------------+-----+\n",
            "\n"
          ]
        }
      ],
      "source": [
        "indexed.select([count(F.when(isnan(c), c)).alias(c) for c in indexed.columns]).show()"
      ]
    },
    {
      "cell_type": "markdown",
      "source": [
        "# Vector Assembler"
      ],
      "metadata": {
        "id": "wFr_YcLVgnmf"
      }
    },
    {
      "cell_type": "code",
      "execution_count": null,
      "metadata": {
        "id": "LqmOpRaodjMH"
      },
      "outputs": [],
      "source": [
        "assembler = VectorAssembler(inputCols = ['Indexed_Manufacturer',\n",
        " 'Indexed_Vehicle_type',\n",
        " 'four_year_resale_value',\n",
        " 'Price_in_thousands',\n",
        " 'Engine_size',\n",
        " 'Horsepower',\n",
        " 'Wheelbase',\n",
        " 'Width',\n",
        " 'Length',\n",
        " 'Curb_weight',\n",
        " 'Fuel_capacity',\n",
        " 'Fuel_efficiency',\n",
        " 'Power_perf_factor',\n",
        "], outputCol = \"features\")"
      ]
    },
    {
      "cell_type": "code",
      "execution_count": null,
      "metadata": {
        "colab": {
          "base_uri": "https://localhost:8080/"
        },
        "id": "mAUaHYPNdjZI",
        "outputId": "dd1743ec-cb7b-4706-8c27-61ad5928f9e0"
      },
      "outputs": [
        {
          "output_type": "stream",
          "name": "stdout",
          "text": [
            "+------------------+--------------------+\n",
            "|             label|            features|\n",
            "+------------------+--------------------+\n",
            "| 2.828437250776659|[17.0,0.0,2.79483...|\n",
            "|3.6733596424558996|[17.0,0.0,2.98946...|\n",
            "|2.6471672125786387|[17.0,0.0,2.90279...|\n",
            "|2.1503658800165346|[17.0,0.0,3.39198...|\n",
            "|3.0153878312124323|[20.0,0.0,3.10256...|\n",
            "| 2.932792473780117|[20.0,0.0,3.15933...|\n",
            "|0.3220834991691133|[20.0,0.0,3.66356...|\n",
            "|2.9830015810751727|[21.0,0.0,2.89441...|\n",
            "|2.2225673850080145|[21.0,0.0,3.35602...|\n",
            "| 2.863742549091039|[21.0,0.0,3.58698...|\n",
            "+------------------+--------------------+\n",
            "only showing top 10 rows\n",
            "\n"
          ]
        }
      ],
      "source": [
        "data = assembler.transform(indexed).select('label','features')\n",
        "data.show(10)"
      ]
    },
    {
      "cell_type": "markdown",
      "metadata": {
        "id": "cHliFjqCBH8t"
      },
      "source": [
        "# Train Test Split"
      ]
    },
    {
      "cell_type": "code",
      "execution_count": null,
      "metadata": {
        "colab": {
          "base_uri": "https://localhost:8080/"
        },
        "id": "uY56YQKQLtER",
        "outputId": "ce6e94e4-87a9-4fe1-dbf5-972c878c2ab0"
      },
      "outputs": [
        {
          "output_type": "stream",
          "name": "stdout",
          "text": [
            "+------------------+--------------------+\n",
            "|             label|            features|\n",
            "+------------------+--------------------+\n",
            "| 2.828437250776659|[17.0,0.0,2.79483...|\n",
            "|3.6733596424558996|[17.0,0.0,2.98946...|\n",
            "|2.6471672125786387|[17.0,0.0,2.90279...|\n",
            "|2.1503658800165346|[17.0,0.0,3.39198...|\n",
            "|3.0153878312124323|[20.0,0.0,3.10256...|\n",
            "+------------------+--------------------+\n",
            "only showing top 5 rows\n",
            "\n"
          ]
        }
      ],
      "source": [
        "newdf = data.toDF('label','features')\n",
        "newdf.show(5)"
      ]
    },
    {
      "cell_type": "code",
      "execution_count": null,
      "metadata": {
        "id": "HGYNeYylBKT2"
      },
      "outputs": [],
      "source": [
        "train_df, test_df = newdf.randomSplit( [0.7, 0.3], seed = 42 )"
      ]
    },
    {
      "cell_type": "markdown",
      "metadata": {
        "id": "1xzpgv8RHGIu"
      },
      "source": [
        "# Model Building"
      ]
    },
    {
      "cell_type": "markdown",
      "metadata": {
        "id": "Oe9WhGTWvT6m"
      },
      "source": [
        "## Linear Regression"
      ]
    },
    {
      "cell_type": "code",
      "execution_count": null,
      "metadata": {
        "id": "4H--mxGSdjgG"
      },
      "outputs": [],
      "source": [
        "LR_model = mlr.LinearRegression()\n",
        "LR_model = LR_model.fit(train_df)"
      ]
    },
    {
      "cell_type": "code",
      "execution_count": null,
      "metadata": {
        "colab": {
          "base_uri": "https://localhost:8080/"
        },
        "id": "1akaSg1-jVpm",
        "outputId": "d69a9a00-22b7-4991-d2d8-e83a744eade6"
      },
      "outputs": [
        {
          "output_type": "stream",
          "name": "stdout",
          "text": [
            "+--------------------+--------------------+------------------+\n",
            "|               label|            features|        prediction|\n",
            "+--------------------+--------------------+------------------+\n",
            "|-0.04709160753385057|[3.0,0.0,2.894417...|0.8701136197663883|\n",
            "| 0.42264993286226527|[3.0,0.0,2.894417...|1.8194165317368776|\n",
            "|  0.6270073780554004|[19.0,0.0,2.89441...|3.4500631623463454|\n",
            "|  1.1972502585651092|[3.0,0.0,4.070734...|0.5356704035266153|\n",
            "|  1.5547705110917922|[0.0,0.0,2.529322...|3.0561368788327243|\n",
            "|  1.6530719494541617|[16.0,0.0,2.37861...| 3.975332682734347|\n",
            "|  1.6563214983329508|[19.0,0.0,2.28238...|3.6123433232497835|\n",
            "|  1.8773253575577016|[14.0,0.0,3.24746...| 2.658940781954537|\n",
            "|   2.079191510424627|[3.0,0.0,2.894417...| 1.630158581671643|\n",
            "|  2.1503658800165346|[17.0,0.0,3.39198...|3.0585786916005917|\n",
            "|   2.195222574665546|[25.0,0.0,3.71965...| 1.051006723927756|\n",
            "|   2.258528706797126|[12.0,0.0,2.80789...|3.1812888454958834|\n",
            "|   2.278394854192828|[12.0,0.0,2.43580...|3.3974964743485128|\n",
            "|  2.2859474518410225|[4.0,1.0,3.528710...| 2.839739167893268|\n",
            "|  2.4280717130354614|[6.0,1.0,2.950996...|3.0479124860983093|\n",
            "|   2.494444354268489|[26.0,0.0,2.89441...|2.0513376359371707|\n",
            "|  2.5414445007482582|[8.0,0.0,3.468076...|2.5904859699376797|\n",
            "|  2.6471672125786387|[17.0,0.0,2.90279...|3.8791495404404825|\n",
            "|  2.6936131533044407|[14.0,1.0,2.89441...| 3.055015339618161|\n",
            "|   2.724251580440218|[13.0,0.0,2.89441...| 2.542626609858827|\n",
            "+--------------------+--------------------+------------------+\n",
            "only showing top 20 rows\n",
            "\n"
          ]
        }
      ],
      "source": [
        "pred = LR_model.transform(test_df)\n",
        "pred.show()"
      ]
    },
    {
      "cell_type": "code",
      "execution_count": null,
      "metadata": {
        "colab": {
          "base_uri": "https://localhost:8080/"
        },
        "id": "uRY18S4Ldjji",
        "outputId": "eab9452d-9f5e-410d-a31f-7faddeea6b5c"
      },
      "outputs": [
        {
          "output_type": "execute_result",
          "data": {
            "text/plain": [
              "['__class__',\n",
              " '__del__',\n",
              " '__delattr__',\n",
              " '__dict__',\n",
              " '__dir__',\n",
              " '__doc__',\n",
              " '__eq__',\n",
              " '__format__',\n",
              " '__ge__',\n",
              " '__getattribute__',\n",
              " '__gt__',\n",
              " '__hash__',\n",
              " '__init__',\n",
              " '__init_subclass__',\n",
              " '__le__',\n",
              " '__lt__',\n",
              " '__module__',\n",
              " '__ne__',\n",
              " '__new__',\n",
              " '__reduce__',\n",
              " '__reduce_ex__',\n",
              " '__repr__',\n",
              " '__setattr__',\n",
              " '__sizeof__',\n",
              " '__str__',\n",
              " '__subclasshook__',\n",
              " '__weakref__',\n",
              " '_call_java',\n",
              " '_create_from_java_class',\n",
              " '_java_obj',\n",
              " '_new_java_array',\n",
              " '_new_java_obj',\n",
              " 'coefficientStandardErrors',\n",
              " 'degreesOfFreedom',\n",
              " 'devianceResiduals',\n",
              " 'explainedVariance',\n",
              " 'featuresCol',\n",
              " 'labelCol',\n",
              " 'meanAbsoluteError',\n",
              " 'meanSquaredError',\n",
              " 'numInstances',\n",
              " 'objectiveHistory',\n",
              " 'pValues',\n",
              " 'predictionCol',\n",
              " 'predictions',\n",
              " 'r2',\n",
              " 'r2adj',\n",
              " 'residuals',\n",
              " 'rootMeanSquaredError',\n",
              " 'tValues',\n",
              " 'totalIterations']"
            ]
          },
          "metadata": {},
          "execution_count": 42
        }
      ],
      "source": [
        "dir(LR_model.summary)"
      ]
    },
    {
      "cell_type": "code",
      "execution_count": null,
      "metadata": {
        "colab": {
          "base_uri": "https://localhost:8080/"
        },
        "id": "1sNQwktRdjn0",
        "outputId": "9b30fe7f-4e3e-47a2-b0e5-9a7cfe2a5e36"
      },
      "outputs": [
        {
          "output_type": "stream",
          "name": "stdout",
          "text": [
            "MSE:  0.898912103619674\n",
            "r2 score:  0.49475347344211307\n"
          ]
        }
      ],
      "source": [
        "print('MSE: ', LR_model.summary.meanSquaredError)\n",
        "print('r2 score: ', LR_model.summary.r2)"
      ]
    },
    {
      "cell_type": "code",
      "source": [
        ""
      ],
      "metadata": {
        "id": "blmZZipmL2yM"
      },
      "execution_count": null,
      "outputs": []
    },
    {
      "cell_type": "markdown",
      "metadata": {
        "id": "CTLEq-wtIZ8l"
      },
      "source": [
        "## Random Forest Regression"
      ]
    },
    {
      "cell_type": "code",
      "execution_count": null,
      "metadata": {
        "id": "cl2b1pY2dlPf"
      },
      "outputs": [],
      "source": [
        "rfModel = mlr.RandomForestRegressor(featuresCol=\"features\",\n",
        "                              labelCol=\"label\",\n",
        "                              numTrees=50,\n",
        "                              maxDepth=5,\n",
        "                              featureSubsetStrategy='onethird')"
      ]
    },
    {
      "cell_type": "code",
      "execution_count": null,
      "metadata": {
        "id": "W1IMSN08dlSF"
      },
      "outputs": [],
      "source": [
        "rflm = rfModel.fit( train_df )"
      ]
    },
    {
      "cell_type": "code",
      "execution_count": null,
      "metadata": {
        "colab": {
          "base_uri": "https://localhost:8080/"
        },
        "id": "ROTIw5AsdlWm",
        "outputId": "2ec4140f-5222-42fd-d41a-95eff934b3a7"
      },
      "outputs": [
        {
          "output_type": "stream",
          "name": "stdout",
          "text": [
            "+--------------------+--------------------+------------------+\n",
            "|               label|            features|        prediction|\n",
            "+--------------------+--------------------+------------------+\n",
            "|-0.04709160753385057|[3.0,0.0,2.894417...| 1.902899150272125|\n",
            "| 0.42264993286226527|[3.0,0.0,2.894417...|2.1463913719453265|\n",
            "|  0.6270073780554004|[19.0,0.0,2.89441...| 3.124583510922231|\n",
            "|  1.1972502585651092|[3.0,0.0,4.070734...| 1.254099385965387|\n",
            "|  1.5547705110917922|[0.0,0.0,2.529322...|  4.16643889616184|\n",
            "|  1.6530719494541617|[16.0,0.0,2.37861...| 3.761033834505304|\n",
            "|  1.6563214983329508|[19.0,0.0,2.28238...|3.8064990868872433|\n",
            "|  1.8773253575577016|[14.0,0.0,3.24746...|3.2855615566415945|\n",
            "|   2.079191510424627|[3.0,0.0,2.894417...|2.1944223758177994|\n",
            "|  2.1503658800165346|[17.0,0.0,3.39198...|3.3667634661152697|\n",
            "|   2.195222574665546|[25.0,0.0,3.71965...|2.6482351156856305|\n",
            "|   2.258528706797126|[12.0,0.0,2.80789...|3.3356382972973533|\n",
            "|   2.278394854192828|[12.0,0.0,2.43580...| 3.519141239845231|\n",
            "|  2.2859474518410225|[4.0,1.0,3.528710...|  3.72388361041108|\n",
            "|  2.4280717130354614|[6.0,1.0,2.950996...| 2.861008435649326|\n",
            "|   2.494444354268489|[26.0,0.0,2.89441...| 3.130597283373791|\n",
            "|  2.5414445007482582|[8.0,0.0,3.468076...| 3.257214320720692|\n",
            "|  2.6471672125786387|[17.0,0.0,2.90279...| 3.434269020753257|\n",
            "|  2.6936131533044407|[14.0,1.0,2.89441...| 3.170603150608148|\n",
            "|   2.724251580440218|[13.0,0.0,2.89441...| 2.726605963265874|\n",
            "+--------------------+--------------------+------------------+\n",
            "only showing top 20 rows\n",
            "\n"
          ]
        }
      ],
      "source": [
        "pred2 = rflm.transform(test_df)\n",
        "pred2.show()"
      ]
    },
    {
      "cell_type": "code",
      "execution_count": null,
      "metadata": {
        "id": "ZLeLT36fdlaL"
      },
      "outputs": [],
      "source": [
        "def get_r2_rmse( model, test_df ):\n",
        "  y_pred = model.transform( test_df )\n",
        "  y_pred = y_pred.withColumn( \"y_pred\", F.exp( 'prediction' ) )\n",
        "  rmse_evaluator = RegressionEvaluator(labelCol=\"label\",\n",
        "                              predictionCol=\"y_pred\",\n",
        "                              metricName=\"rmse\" )\n",
        "  r2_evaluator = RegressionEvaluator(labelCol=\"label\",\n",
        "                              predictionCol=\"y_pred\",\n",
        "                              metricName=\"r2\" )\n",
        "\n",
        "  return [np.round( r2_evaluator.evaluate( y_pred ), 2), np.round( rmse_evaluator.evaluate( y_pred ), 2 )]"
      ]
    },
    {
      "cell_type": "code",
      "execution_count": null,
      "metadata": {
        "id": "5Gfstc70dleQ"
      },
      "outputs": [],
      "source": [
        "rf_perf = get_r2_rmse( rflm, test_df )"
      ]
    },
    {
      "cell_type": "code",
      "execution_count": null,
      "metadata": {
        "colab": {
          "base_uri": "https://localhost:8080/"
        },
        "id": "4a-2By1-dlhN",
        "outputId": "f63d4a52-187b-43e8-9cdd-66d3dc2e61cf"
      },
      "outputs": [
        {
          "output_type": "stream",
          "name": "stdout",
          "text": [
            "r2: -1066.93 \n",
            "RMSE: 40.07\n"
          ]
        }
      ],
      "source": [
        "print('r2:', rf_perf[0], '\\nRMSE:', rf_perf[1])"
      ]
    },
    {
      "cell_type": "markdown",
      "source": [
        "Based on the above results, the best model to use is <b>Linear Regression<b>."
      ],
      "metadata": {
        "id": "R5mH201yuRra"
      }
    },
    {
      "cell_type": "markdown",
      "source": [
        "# Pipeline"
      ],
      "metadata": {
        "id": "gBctS21xLzHA"
      }
    },
    {
      "cell_type": "markdown",
      "source": [
        "## Data preparation"
      ],
      "metadata": {
        "id": "8kZg_-sqR-vv"
      }
    },
    {
      "cell_type": "code",
      "execution_count": null,
      "metadata": {
        "id": "h73j1KGP-E7Y",
        "colab": {
          "base_uri": "https://localhost:8080/"
        },
        "outputId": "12c02f61-f8d5-471d-b821-e073b98d4197"
      },
      "outputs": [
        {
          "output_type": "stream",
          "name": "stdout",
          "text": [
            "root\n",
            " |-- Manufacturer: string (nullable = true)\n",
            " |-- Model: string (nullable = true)\n",
            " |-- Sales_in_thousands: double (nullable = true)\n",
            " |-- four_year_resale_value: double (nullable = true)\n",
            " |-- Vehicle_type: string (nullable = true)\n",
            " |-- Price_in_thousands: double (nullable = true)\n",
            " |-- Engine_size: double (nullable = true)\n",
            " |-- Horsepower: integer (nullable = true)\n",
            " |-- Wheelbase: double (nullable = true)\n",
            " |-- Width: double (nullable = true)\n",
            " |-- Length: double (nullable = true)\n",
            " |-- Curb_weight: double (nullable = true)\n",
            " |-- Fuel_capacity: double (nullable = true)\n",
            " |-- Fuel_efficiency: integer (nullable = true)\n",
            " |-- Latest_Launch: string (nullable = true)\n",
            " |-- Power_perf_factor: double (nullable = true)\n",
            "\n"
          ]
        }
      ],
      "source": [
        "df_2 = spark.read.format(\"csv\").option(\"header\",True).option(\"inferSchema\",True).load(\"/content/drive/MyDrive/Car_sales.csv\")\n",
        "df_2.printSchema()"
      ]
    },
    {
      "cell_type": "code",
      "source": [
        "# Fixing columns\n",
        "df_2 = df_2.withColumn('label', log('Sales_in_thousands'))\n",
        "df_2 = df_2.withColumn('four_year_resale_value', log('four_year_resale_value'))\n",
        "df_2 = df_2.withColumn('Price_in_thousands', log('Price_in_thousands'))\n",
        "df_2 = df_2.withColumn('Engine_size', log('Engine_size'))\n",
        "\n",
        "# dropping unwanted columns\n",
        "df_2 = df_2.drop('Model', 'Latest_Launch')"
      ],
      "metadata": {
        "id": "yojTQXk0h9BW"
      },
      "execution_count": null,
      "outputs": []
    },
    {
      "cell_type": "code",
      "execution_count": null,
      "metadata": {
        "id": "4DGfTnOvafqd"
      },
      "outputs": [],
      "source": [
        "# Columns for Missng value treatment\n",
        "input_col = [\"four_year_resale_value\",\n",
        "                     \"Price_in_thousands\",\n",
        "                     \"Horsepower\",\n",
        "                     \"Wheelbase\",\n",
        "                     \"Width\",\n",
        "                     \"Length\",\n",
        "                     \"Curb_weight\",\n",
        "                     \"Fuel_capacity\",\n",
        "                     \"Fuel_efficiency\",\n",
        "                     \"Power_perf_factor\"]\n",
        "\n",
        "out_col = ['Out_four_year_resale_value',\n",
        "                     'Out_Price_in_thousands',\n",
        "                     'Out_Horsepower',\n",
        "                     'Out_Wheelbase',\n",
        "                     'Out_Width',\n",
        "                     'Out_Length',\n",
        "                     'Out_Curb_weight',\n",
        "                     'Out_Fuel_capacity',\n",
        "                     'Out_Fuel_efficiency',\n",
        "                     'Out_Power_perf_factor']\n",
        "\n",
        "# String Indexing\n",
        "input_col_STrInd = [\"Manufacturer\",\n",
        "                     \"Vehicle_type\",]\n",
        "\n",
        "out_col_STrInd = [\"Indexed_Manufacturer\",\n",
        "                     \"Indexed_Vehicle_type\",]\n",
        "\n",
        "# Vector Assembler\n",
        "input_cols_VecAssem = ['Indexed_Manufacturer',\n",
        " 'Indexed_Vehicle_type',\n",
        " 'four_year_resale_value',\n",
        " 'Price_in_thousands',\n",
        " 'Engine_size',\n",
        " 'Horsepower',\n",
        " 'Wheelbase',\n",
        " 'Width',\n",
        " 'Length',\n",
        " 'Curb_weight',\n",
        " 'Fuel_capacity',\n",
        " 'Fuel_efficiency',\n",
        " 'Power_perf_factor',]\n",
        "\n",
        "\n",
        "#********************************** Missing Value Treatment's section ***************************************************************************\n",
        "# imputer1 = Imputer(strategy = 'mean', inputCols= input_col, outputCols= input_col)\n",
        "# newdf = imputer1.fit(df)\n",
        "# newdf.surrogateDF\n",
        "# newdf = newdf.transform(df)\n",
        "# newdf.show()\n",
        "\n",
        "#******************************** String indexing's section **************************************************************************************\n",
        "# indexer = StringIndexer(inputCols=input_col, outputCols=out_col) \n",
        "# indexed = indexer.fit(newdf).transform(newdf) \n",
        "# indexed.show()\n",
        "\n",
        "#******************************* Vector Assembler's section **************************************************************************************\n",
        "# assembler = VectorAssembler(inputCols = input_cols_VecAssem, outputCol = \"features\")\n",
        "# data = assembler.transform(indexed).select('label','features')\n",
        "# data.show(10)"
      ]
    },
    {
      "cell_type": "markdown",
      "source": [
        "## Setting stages for pipeline"
      ],
      "metadata": {
        "id": "v7oBtAMIbM-m"
      }
    },
    {
      "cell_type": "code",
      "source": [
        "# Handling missing values\n",
        "imputer1 = Imputer(strategy = 'mean', inputCols = input_col, outputCols = input_col)\n",
        "\n",
        "# String Indexer\n",
        "indexer = StringIndexer(inputCols = input_col_STrInd, outputCols = out_col_STrInd)\n",
        "\n",
        "# Vector Assembler\n",
        "assembler = VectorAssembler(inputCols = input_cols_VecAssem, outputCol = \"features\")\n",
        "\n",
        "# Model Building\n",
        "LR_model = mlr.LinearRegression()\n",
        "\n",
        "# Creating Pipeline\n",
        "pipeline = Pipeline( stages= [imputer1, indexer, assembler, LR_model ])"
      ],
      "metadata": {
        "id": "F5PHZhfPbKQg"
      },
      "execution_count": null,
      "outputs": []
    },
    {
      "cell_type": "markdown",
      "source": [
        "## Train Test split"
      ],
      "metadata": {
        "id": "G69rVFlEkC7P"
      }
    },
    {
      "cell_type": "code",
      "source": [
        "train, test = df_2.randomSplit( [0.7, 0.3], seed = 42 )"
      ],
      "metadata": {
        "id": "mipwNdF6bKT3"
      },
      "execution_count": null,
      "outputs": []
    },
    {
      "cell_type": "markdown",
      "source": [
        "# Model Fitting"
      ],
      "metadata": {
        "id": "esxbn3NrmXOV"
      }
    },
    {
      "cell_type": "code",
      "source": [
        "model = pipeline.fit(train)\n",
        "y_pred_train = model.transform(train)"
      ],
      "metadata": {
        "id": "U3-BenaXbKYF"
      },
      "execution_count": null,
      "outputs": []
    },
    {
      "cell_type": "code",
      "source": [
        "y_pred_train.select('label', 'features', 'prediction').show(10)"
      ],
      "metadata": {
        "colab": {
          "base_uri": "https://localhost:8080/"
        },
        "id": "WfKEc4rubKav",
        "outputId": "2ffe76d2-e6c8-4333-997d-2b1377128ac6"
      },
      "execution_count": null,
      "outputs": [
        {
          "output_type": "stream",
          "name": "stdout",
          "text": [
            "+------------------+--------------------+------------------+\n",
            "|             label|            features|        prediction|\n",
            "+------------------+--------------------+------------------+\n",
            "|2.1503658800165346|[14.0,0.0,3.39198...|2.7953115553581527|\n",
            "|2.6471672125786387|[14.0,0.0,2.90279...|3.4257343569031438|\n",
            "|3.6733596424558996|[14.0,0.0,2.98946...|3.4149535565310614|\n",
            "|0.3220834991691133|[18.0,0.0,3.66356...|1.8458996178465843|\n",
            "| 2.932792473780117|[18.0,0.0,3.15933...|2.5207579372097313|\n",
            "|2.2225673850080145|[26.0,0.0,3.35602...|2.3418154630312404|\n",
            "| 3.326868872371394|[15.0,0.0,3.00518...|3.3292756463086914|\n",
            "|3.6724959748634123|[15.0,0.0,2.62031...| 3.508376868479164|\n",
            "| 4.421932209409769|[15.0,0.0,2.59226...| 3.283193113197071|\n",
            "|2.6936131533044407|[16.0,1.0,2.78294...| 2.762600544849474|\n",
            "+------------------+--------------------+------------------+\n",
            "only showing top 10 rows\n",
            "\n"
          ]
        }
      ]
    },
    {
      "cell_type": "code",
      "source": [
        "y_pred_test = model.transform(test)\n",
        "y_pred_test.select('label', 'features', 'prediction').show(10)"
      ],
      "metadata": {
        "colab": {
          "base_uri": "https://localhost:8080/"
        },
        "id": "CSwV2VahbKdx",
        "outputId": "f6edbe7b-eecd-4e48-a763-c7d2b31adc2b"
      },
      "execution_count": null,
      "outputs": [
        {
          "output_type": "stream",
          "name": "stdout",
          "text": [
            "+------------------+--------------------+------------------+\n",
            "|             label|            features|        prediction|\n",
            "+------------------+--------------------+------------------+\n",
            "| 2.828437250776659|[14.0,0.0,2.79483...|2.9196788784013936|\n",
            "|3.0153878312124323|[18.0,0.0,3.10256...|2.8688704568116092|\n",
            "| 2.863742549091039|[26.0,0.0,3.58698...| 2.470827862353402|\n",
            "|2.9830015810751727|[26.0,0.0,2.78294...| 2.512540574463891|\n",
            "| 4.517005416824636|[15.0,0.0,2.52372...|3.3805119767564062|\n",
            "|1.8773253575577016|[16.0,0.0,3.24746...|2.8685645546024676|\n",
            "| 2.414573594942093|[16.0,0.0,2.90279...| 2.885258014627162|\n",
            "|2.8874229700471394|[5.0,0.0,3.589749...| 2.299266256626808|\n",
            "|3.2039246104149885|[5.0,0.0,2.333114...| 3.917638236875781|\n",
            "| 3.475036269997026|[5.0,0.0,2.211017...|3.6936650477407125|\n",
            "+------------------+--------------------+------------------+\n",
            "only showing top 10 rows\n",
            "\n"
          ]
        }
      ]
    },
    {
      "cell_type": "code",
      "source": [
        ""
      ],
      "metadata": {
        "id": "6tK4oHBkbK5F"
      },
      "execution_count": null,
      "outputs": []
    }
  ],
  "metadata": {
    "colab": {
      "collapsed_sections": [
        "GAQc2DKDXOeK"
      ],
      "name": "Car Sales Prediction.ipynb",
      "provenance": []
    },
    "kernelspec": {
      "display_name": "Python 3",
      "name": "python3"
    },
    "language_info": {
      "name": "python"
    }
  },
  "nbformat": 4,
  "nbformat_minor": 0
}